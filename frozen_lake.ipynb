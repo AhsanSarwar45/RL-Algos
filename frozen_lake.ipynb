{
 "cells": [
  {
   "cell_type": "code",
   "execution_count": 78,
   "metadata": {},
   "outputs": [],
   "source": [
    "import gym\n",
    "import time\n",
    "from IPython.display import clear_output\n"
   ]
  },
  {
   "cell_type": "code",
   "execution_count": 79,
   "metadata": {},
   "outputs": [
    {
     "name": "stdout",
     "output_type": "stream",
     "text": [
      "The autoreload module is not an IPython extension.\n"
     ]
    },
    {
     "name": "stderr",
     "output_type": "stream",
     "text": [
      "UsageError: Line magic function `%autoreload` not found.\n"
     ]
    }
   ],
   "source": [
    "%load_ext autoreload\n",
    "%autoreload 2"
   ]
  },
  {
   "cell_type": "code",
   "execution_count": 80,
   "metadata": {},
   "outputs": [],
   "source": [
    "from algorithms.q_learning import QLearning, EpsilonGreedyStrategy, GreedyStrategy"
   ]
  },
  {
   "cell_type": "code",
   "execution_count": 81,
   "metadata": {},
   "outputs": [
    {
     "name": "stdout",
     "output_type": "stream",
     "text": [
      "\n",
      "\u001b[41mS\u001b[0mFFF\n",
      "FHFH\n",
      "FFFH\n",
      "HFFG\n"
     ]
    }
   ],
   "source": [
    "env = gym.make(\"FrozenLake-v1\", is_slippery=False)\n",
    "env.render()\n",
    "env.close()"
   ]
  },
  {
   "cell_type": "code",
   "execution_count": 82,
   "metadata": {},
   "outputs": [
    {
     "name": "stdout",
     "output_type": "stream",
     "text": [
      "Q-Learning with EpsilonGreedyStrategy exploration strategy\n"
     ]
    }
   ],
   "source": [
    "model = QLearning(env, learning_rate=0.01, num_episodes = 100, max_steps_per_episode=100)"
   ]
  },
  {
   "cell_type": "code",
   "execution_count": 83,
   "metadata": {},
   "outputs": [
    {
     "name": "stdout",
     "output_type": "stream",
     "text": [
      "--------Average reward per thousand episodes--------\n",
      "1000.0 :  0.0\n",
      "2000.0 :  0.0\n",
      "3000.0 :  0.0\n",
      "4000.0 :  0.0\n",
      "5000.0 :  0.0\n",
      "6000.0 :  0.0\n",
      "7000.0 :  0.0\n",
      "8000.0 :  0.0\n",
      "9000.0 :  0.0\n",
      "10000.0 :  0.0\n"
     ]
    }
   ],
   "source": [
    "model.learn()\n",
    "model.print_info()"
   ]
  },
  {
   "cell_type": "code",
   "execution_count": 84,
   "metadata": {},
   "outputs": [
    {
     "name": "stdout",
     "output_type": "stream",
     "text": [
      "Average reward: 0.0\n"
     ]
    }
   ],
   "source": [
    "model.evaluate()"
   ]
  },
  {
   "cell_type": "code",
   "execution_count": 85,
   "metadata": {},
   "outputs": [],
   "source": [
    "# test_episodes = 3\n",
    "# max_steps_per_episode = 100\n",
    "# fps = 3\n",
    "\n",
    "# for episode in range(test_episodes):\n",
    "#     state = env.reset()\n",
    "#     done = False\n",
    "#     print(f\"-------Episode {episode+1}-------\")\n",
    "#     time.sleep(1)\n",
    "    \n",
    "#     current_episode_reward = 0\n",
    "\n",
    "#     for step in range(max_steps_per_episode):\n",
    "#         clear_output(wait=True)\n",
    "#         env.render()\n",
    "#         time.sleep(1/fps)\n",
    "\n",
    "#         action = model.predict(state)\n",
    "        \n",
    "#         new_state, reward, done, info = env.step(action)\n",
    "        \n",
    "#         current_episode_reward += reward\n",
    "\n",
    "#         if done:\n",
    "#             clear_output(wait=True)\n",
    "#             env.render()\n",
    "#             if reward == 1:\n",
    "#                 print(\"------You reached the goal!-------\")\n",
    "#                 time.sleep(3)\n",
    "#             else:\n",
    "#                 print(\"------You fell in a hole!-------\")\n",
    "#                 time.sleep(3)\n",
    "            \n",
    "#             clear_output(wait=True)\n",
    "#             break\n",
    "\n",
    "#         state = new_state\n",
    "\n",
    "# env.close()"
   ]
  }
 ],
 "metadata": {
  "interpreter": {
   "hash": "2e900c0cfb6a5dd5431ffb90806b8f4ad802fc711c116e3a2a7be17c673e7013"
  },
  "kernelspec": {
   "display_name": "Python 3.9.6 64-bit",
   "language": "python",
   "name": "python3"
  },
  "language_info": {
   "codemirror_mode": {
    "name": "ipython",
    "version": 3
   },
   "file_extension": ".py",
   "mimetype": "text/x-python",
   "name": "python",
   "nbconvert_exporter": "python",
   "pygments_lexer": "ipython3",
   "version": "3.9.6"
  },
  "orig_nbformat": 4
 },
 "nbformat": 4,
 "nbformat_minor": 2
}
