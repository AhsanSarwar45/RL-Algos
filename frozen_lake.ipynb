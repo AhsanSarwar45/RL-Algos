{
 "cells": [
  {
   "cell_type": "code",
   "execution_count": 103,
   "metadata": {},
   "outputs": [],
   "source": [
    "from importlib import reload\n",
    "\n",
    "import gym\n",
    "\n",
    "from algorithms.q_learning import QLearning, EpsilonGreedyStrategy, GreedyStrategy\n",
    "\n",
    "import time\n",
    "from IPython.display import clear_output"
   ]
  },
  {
   "cell_type": "code",
   "execution_count": 104,
   "metadata": {},
   "outputs": [
    {
     "name": "stdout",
     "output_type": "stream",
     "text": [
      "\n",
      "\u001b[41mS\u001b[0mFFF\n",
      "FHFH\n",
      "FFFH\n",
      "HFFG\n"
     ]
    }
   ],
   "source": [
    "env = gym.make(\"FrozenLake-v1\", is_slippery=False)\n",
    "env.render()\n",
    "env.close()"
   ]
  },
  {
   "cell_type": "code",
   "execution_count": 105,
   "metadata": {},
   "outputs": [
    {
     "name": "stdout",
     "output_type": "stream",
     "text": [
      "--------Average reward per thousand episodes--------\n",
      "1000.0 :  0.2830000000000002\n",
      "2000.0 :  0.7530000000000006\n",
      "3000.0 :  0.8950000000000007\n",
      "4000.0 :  0.9690000000000007\n",
      "5000.0 :  0.9700000000000008\n",
      "6000.0 :  0.9870000000000008\n",
      "7000.0 :  0.9880000000000008\n",
      "8000.0 :  0.9930000000000008\n",
      "9000.0 :  0.9890000000000008\n",
      "10000.0 :  0.9850000000000008\n"
     ]
    }
   ],
   "source": [
    "model = QLearning(env, learning_rate=0.01, num_episodes = 10000, max_steps_per_episode=1000)\n",
    "\n",
    "model.learn()\n",
    "model.print_info()"
   ]
  },
  {
   "cell_type": "code",
   "execution_count": 101,
   "metadata": {},
   "outputs": [
    {
     "name": "stdout",
     "output_type": "stream",
     "text": [
      "Average reward: 1.0\n"
     ]
    }
   ],
   "source": [
    "model.evaluate()"
   ]
  },
  {
   "cell_type": "code",
   "execution_count": 106,
   "metadata": {},
   "outputs": [
    {
     "name": "stdout",
     "output_type": "stream",
     "text": [
      "  (Right)\n",
      "SFFF\n",
      "FHFH\n",
      "FFFH\n",
      "HFF\u001b[41mG\u001b[0m\n",
      "------You reached the goal!-------\n"
     ]
    }
   ],
   "source": [
    "test_episodes = 3\n",
    "max_steps_per_episode = 100\n",
    "fps = 3\n",
    "\n",
    "for episode in range(test_episodes):\n",
    "    state = env.reset()\n",
    "    done = False\n",
    "    print(f\"-------Episode {episode+1}-------\")\n",
    "    time.sleep(1)\n",
    "    \n",
    "    current_episode_reward = 0\n",
    "\n",
    "    for step in range(max_steps_per_episode):\n",
    "        clear_output(wait=True)\n",
    "        env.render()\n",
    "        time.sleep(1/fps)\n",
    "\n",
    "        action = model.predict(state)\n",
    "        \n",
    "        new_state, reward, done, info = env.step(action)\n",
    "        \n",
    "        current_episode_reward += reward\n",
    "\n",
    "        if done:\n",
    "            clear_output(wait=True)\n",
    "            env.render()\n",
    "            if reward == 1:\n",
    "                print(\"------You reached the goal!-------\")\n",
    "                time.sleep(3)\n",
    "            else:\n",
    "                print(\"------You fell in a hole!-------\")\n",
    "                time.sleep(3)\n",
    "            \n",
    "            clear_output(wait=True)\n",
    "            break\n",
    "\n",
    "        state = new_state\n",
    "\n",
    "env.close()"
   ]
  }
 ],
 "metadata": {
  "interpreter": {
   "hash": "2e900c0cfb6a5dd5431ffb90806b8f4ad802fc711c116e3a2a7be17c673e7013"
  },
  "kernelspec": {
   "display_name": "Python 3.9.6 64-bit",
   "language": "python",
   "name": "python3"
  },
  "language_info": {
   "codemirror_mode": {
    "name": "ipython",
    "version": 3
   },
   "file_extension": ".py",
   "mimetype": "text/x-python",
   "name": "python",
   "nbconvert_exporter": "python",
   "pygments_lexer": "ipython3",
   "version": "3.9.6"
  },
  "orig_nbformat": 4
 },
 "nbformat": 4,
 "nbformat_minor": 2
}
