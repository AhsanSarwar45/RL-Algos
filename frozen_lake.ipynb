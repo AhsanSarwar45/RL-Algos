{
 "cells": [
  {
   "cell_type": "code",
   "execution_count": 504,
   "metadata": {},
   "outputs": [],
   "source": [
    "import gym\n",
    "import time\n",
    "from IPython.display import clear_output\n"
   ]
  },
  {
   "cell_type": "code",
   "execution_count": 505,
   "metadata": {},
   "outputs": [],
   "source": [
    "from importlib import reload\n",
    "import algorithms.q_learning\n",
    "reload(algorithms.q_learning)\n",
    "from algorithms.q_learning import QLearning, EpsilonGreedyStrategy, GreedyStrategy, ExponentialEpsilon,ConstantEpsilon, LinearEpsilon"
   ]
  },
  {
   "cell_type": "code",
   "execution_count": 506,
   "metadata": {},
   "outputs": [
    {
     "name": "stdout",
     "output_type": "stream",
     "text": [
      "\n",
      "\u001b[41mS\u001b[0mFFF\n",
      "FHFH\n",
      "FFFH\n",
      "HFFG\n"
     ]
    }
   ],
   "source": [
    "env = gym.make(\"FrozenLake-v1\", is_slippery=True)\n",
    "env.render()\n",
    "env.close()"
   ]
  },
  {
   "cell_type": "code",
   "execution_count": 507,
   "metadata": {},
   "outputs": [
    {
     "name": "stdout",
     "output_type": "stream",
     "text": [
      "Q-Learning with EpsilonGreedyStrategy exploration strategy\n"
     ]
    }
   ],
   "source": [
    "model = QLearning(env, learning_rate=0.06, num_episodes = 5000, max_steps_per_episode=1000, exploration_strategy=EpsilonGreedyStrategy(epsilon_strategy=LinearEpsilon(1, 0.01, 0.0004)))"
   ]
  },
  {
   "cell_type": "code",
   "execution_count": 508,
   "metadata": {},
   "outputs": [
    {
     "name": "stdout",
     "output_type": "stream",
     "text": [
      "--------Average reward per thousand episodes--------\n",
      "500.0 :  0.032000000000000015\n",
      "1000.0 :  0.030000000000000013\n",
      "1500.0 :  0.06200000000000004\n",
      "2000.0 :  0.1440000000000001\n",
      "2500.0 :  0.4000000000000003\n",
      "3000.0 :  0.6760000000000005\n",
      "3500.0 :  0.6680000000000005\n",
      "4000.0 :  0.7020000000000005\n",
      "4500.0 :  0.6700000000000005\n",
      "5000.0 :  0.7020000000000005\n"
     ]
    }
   ],
   "source": [
    "model.learn()\n",
    "model.print_info()"
   ]
  },
  {
   "cell_type": "code",
   "execution_count": 509,
   "metadata": {},
   "outputs": [
    {
     "name": "stdout",
     "output_type": "stream",
     "text": [
      "Average reward: 0.7367\n",
      "Total reward: 7367.0\n"
     ]
    }
   ],
   "source": [
    "model.evaluate(10000)"
   ]
  },
  {
   "cell_type": "code",
   "execution_count": 510,
   "metadata": {},
   "outputs": [],
   "source": [
    "test_episodes = 3\n",
    "max_steps_per_episode = 100\n",
    "fps = 3\n",
    "\n",
    "for episode in range(test_episodes):\n",
    "    state = env.reset()\n",
    "    done = False\n",
    "    print(f\"-------Episode {episode+1}-------\")\n",
    "    time.sleep(1)\n",
    "    \n",
    "    current_episode_reward = 0\n",
    "\n",
    "    for step in range(max_steps_per_episode):\n",
    "        clear_output(wait=True)\n",
    "        env.render()\n",
    "        time.sleep(1/fps)\n",
    "\n",
    "        action = model.predict(state)\n",
    "        \n",
    "        new_state, reward, done, info = env.step(action)\n",
    "        \n",
    "        current_episode_reward += reward\n",
    "\n",
    "        if done:\n",
    "            clear_output(wait=True)\n",
    "            env.render()\n",
    "            if reward == 1:\n",
    "                print(\"------You reached the goal!-------\")\n",
    "                time.sleep(3)\n",
    "            else:\n",
    "                print(\"------You fell in a hole!-------\")\n",
    "                time.sleep(3)\n",
    "            \n",
    "            clear_output(wait=True)\n",
    "            break\n",
    "\n",
    "        state = new_state\n",
    "\n",
    "env.close()"
   ]
  }
 ],
 "metadata": {
  "interpreter": {
   "hash": "2e900c0cfb6a5dd5431ffb90806b8f4ad802fc711c116e3a2a7be17c673e7013"
  },
  "kernelspec": {
   "display_name": "Python 3.9.6 64-bit",
   "language": "python",
   "name": "python3"
  },
  "language_info": {
   "codemirror_mode": {
    "name": "ipython",
    "version": 3
   },
   "file_extension": ".py",
   "mimetype": "text/x-python",
   "name": "python",
   "nbconvert_exporter": "python",
   "pygments_lexer": "ipython3",
   "version": "3.9.6"
  },
  "orig_nbformat": 4
 },
 "nbformat": 4,
 "nbformat_minor": 2
}
